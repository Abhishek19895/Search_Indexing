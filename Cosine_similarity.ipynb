{
 "cells": [
  {
   "cell_type": "markdown",
   "metadata": {},
   "source": [
    "# Tutorial for calculating cosine similarity between 2 strings\n",
    "Author : Abhishek Singh"
   ]
  },
  {
   "cell_type": "code",
   "execution_count": 12,
   "metadata": {
    "collapsed": true
   },
   "outputs": [],
   "source": [
    "#Importing the needed Libraries\n",
    "import re, math, numpy as np\n",
    "from collections import Counter"
   ]
  },
  {
   "cell_type": "code",
   "execution_count": 13,
   "metadata": {
    "collapsed": true
   },
   "outputs": [],
   "source": [
    "WORD = re.compile(r'\\w+') #To extract word from a mixed set"
   ]
  },
  {
   "cell_type": "code",
   "execution_count": 14,
   "metadata": {
    "collapsed": true
   },
   "outputs": [],
   "source": [
    "#Function takes in 2 vectors & computes their cosine similarity\n",
    "def get_cosine(vec1, vec2):\n",
    "    \"\"\"\n",
    "    param1: vec1 (First Vector)\n",
    "    param2: vec2 (Second Vector)\n",
    "    return: The Cosine similarity score\n",
    "    \"\"\"\n",
    "    intersection = set(vec1.keys()) & set(vec2.keys())\n",
    "    numerator = sum([vec1[x] * vec2[x] for x in intersection])\n",
    "\n",
    "    sum1 = sum([vec1[x]**2 for x in vec1.keys()])\n",
    "    sum2 = sum([vec2[x]**2 for x in vec2.keys()])\n",
    "    denominator = math.sqrt(sum1) * math.sqrt(sum2)\n",
    "\n",
    "    if not denominator:\n",
    "        return 0.0\n",
    "    else:\n",
    "        return float(numerator) / denominator"
   ]
  },
  {
   "cell_type": "code",
   "execution_count": 15,
   "metadata": {
    "collapsed": true
   },
   "outputs": [],
   "source": [
    "#Function to generate a vector dictionary from a string\n",
    "def text_to_vector(text):\n",
    "    \"\"\"\n",
    "    param: takes in a string \n",
    "    return: Outputs a vector\n",
    "    \"\"\"\n",
    "    words = WORD.findall(text)\n",
    "    return Counter(words)\n",
    "\n"
   ]
  },
  {
   "cell_type": "code",
   "execution_count": 16,
   "metadata": {
    "collapsed": true
   },
   "outputs": [],
   "source": [
    "#Lets take in some sample strings\n",
    "s1 = \"This is a great food\"\n",
    "s2 = \"I have only got horrible food in winters\"\n",
    "s3 = \"Last night I had some great food at a party\""
   ]
  },
  {
   "cell_type": "code",
   "execution_count": 17,
   "metadata": {
    "collapsed": false
   },
   "outputs": [
    {
     "name": "stdout",
     "output_type": "stream",
     "text": [
      "Counter({'This': 1, 'a': 1, 'is': 1, 'food': 1, 'great': 1})\n"
     ]
    }
   ],
   "source": [
    "#Vectorizations\n",
    "vector1 = text_to_vector(s1)\n",
    "print vector1"
   ]
  },
  {
   "cell_type": "code",
   "execution_count": 18,
   "metadata": {
    "collapsed": true
   },
   "outputs": [],
   "source": [
    "vector2 = text_to_vector(s2)\n",
    "vector3 = text_to_vector(s3)"
   ]
  },
  {
   "cell_type": "code",
   "execution_count": 19,
   "metadata": {
    "collapsed": false
   },
   "outputs": [
    {
     "name": "stdout",
     "output_type": "stream",
     "text": [
      "0.1581\n"
     ]
    }
   ],
   "source": [
    "#Printing cosine similarities\n",
    "print np.round(get_cosine(vector1, vector2),4)"
   ]
  },
  {
   "cell_type": "code",
   "execution_count": 20,
   "metadata": {
    "collapsed": false
   },
   "outputs": [
    {
     "name": "stdout",
     "output_type": "stream",
     "text": [
      "0.2236\n",
      "0.4243\n"
     ]
    }
   ],
   "source": [
    "print np.round(get_cosine(vector2, vector3),4)\n",
    "print np.round(get_cosine(vector1, vector3),4)"
   ]
  },
  {
   "cell_type": "code",
   "execution_count": null,
   "metadata": {
    "collapsed": true
   },
   "outputs": [],
   "source": []
  }
 ],
 "metadata": {
  "kernelspec": {
   "display_name": "Python 2",
   "language": "python",
   "name": "python2"
  },
  "language_info": {
   "codemirror_mode": {
    "name": "ipython",
    "version": 2
   },
   "file_extension": ".py",
   "mimetype": "text/x-python",
   "name": "python",
   "nbconvert_exporter": "python",
   "pygments_lexer": "ipython2",
   "version": "2.7.10"
  }
 },
 "nbformat": 4,
 "nbformat_minor": 0
}
